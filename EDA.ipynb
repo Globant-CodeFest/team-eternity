{
 "cells": [
  {
   "cell_type": "code",
   "execution_count": 1,
   "metadata": {},
   "outputs": [],
   "source": [
    "import pandas as pd"
   ]
  },
  {
   "cell_type": "code",
   "execution_count": 2,
   "metadata": {},
   "outputs": [],
   "source": [
    "df = pd.read_csv('1900_2021_DISASTERS.xlsx - emdat data.csv')\n",
    "df2 = pd.read_csv('1970-2021_DISASTERS.xlsx - emdat data.csv')"
   ]
  },
  {
   "cell_type": "code",
   "execution_count": 3,
   "metadata": {},
   "outputs": [
    {
     "data": {
      "text/html": [
       "<div>\n",
       "<style scoped>\n",
       "    .dataframe tbody tr th:only-of-type {\n",
       "        vertical-align: middle;\n",
       "    }\n",
       "\n",
       "    .dataframe tbody tr th {\n",
       "        vertical-align: top;\n",
       "    }\n",
       "\n",
       "    .dataframe thead th {\n",
       "        text-align: right;\n",
       "    }\n",
       "</style>\n",
       "<table border=\"1\" class=\"dataframe\">\n",
       "  <thead>\n",
       "    <tr style=\"text-align: right;\">\n",
       "      <th></th>\n",
       "      <th>Year</th>\n",
       "      <th>Seq</th>\n",
       "      <th>Aid Contribution</th>\n",
       "      <th>Dis Mag Value</th>\n",
       "      <th>Start Year</th>\n",
       "      <th>Start Month</th>\n",
       "      <th>Start Day</th>\n",
       "      <th>End Year</th>\n",
       "      <th>End Month</th>\n",
       "      <th>End Day</th>\n",
       "      <th>Total Deaths</th>\n",
       "      <th>No Injured</th>\n",
       "      <th>No Affected</th>\n",
       "      <th>No Homeless</th>\n",
       "      <th>Total Affected</th>\n",
       "      <th>Insured Damages ('000 US$)</th>\n",
       "      <th>Total Damages ('000 US$)</th>\n",
       "      <th>CPI</th>\n",
       "    </tr>\n",
       "  </thead>\n",
       "  <tbody>\n",
       "    <tr>\n",
       "      <th>count</th>\n",
       "      <td>16126.000000</td>\n",
       "      <td>16126.000000</td>\n",
       "      <td>6.770000e+02</td>\n",
       "      <td>4.946000e+03</td>\n",
       "      <td>16126.00000</td>\n",
       "      <td>15739.000000</td>\n",
       "      <td>12498.000000</td>\n",
       "      <td>16126.000000</td>\n",
       "      <td>15418.000000</td>\n",
       "      <td>12570.000000</td>\n",
       "      <td>1.141300e+04</td>\n",
       "      <td>3.895000e+03</td>\n",
       "      <td>9.220000e+03</td>\n",
       "      <td>2.430000e+03</td>\n",
       "      <td>1.161700e+04</td>\n",
       "      <td>1.096000e+03</td>\n",
       "      <td>5.245000e+03</td>\n",
       "      <td>15811.000000</td>\n",
       "    </tr>\n",
       "    <tr>\n",
       "      <th>mean</th>\n",
       "      <td>1996.764790</td>\n",
       "      <td>714.784820</td>\n",
       "      <td>1.254136e+05</td>\n",
       "      <td>4.735038e+04</td>\n",
       "      <td>1996.77837</td>\n",
       "      <td>6.444374</td>\n",
       "      <td>15.233957</td>\n",
       "      <td>1996.835607</td>\n",
       "      <td>6.576728</td>\n",
       "      <td>15.775020</td>\n",
       "      <td>2.842866e+03</td>\n",
       "      <td>2.621102e+03</td>\n",
       "      <td>8.823612e+05</td>\n",
       "      <td>7.329314e+04</td>\n",
       "      <td>7.165088e+05</td>\n",
       "      <td>7.986514e+05</td>\n",
       "      <td>7.247835e+05</td>\n",
       "      <td>63.215103</td>\n",
       "    </tr>\n",
       "    <tr>\n",
       "      <th>std</th>\n",
       "      <td>20.159065</td>\n",
       "      <td>1929.635089</td>\n",
       "      <td>2.997875e+06</td>\n",
       "      <td>3.094242e+05</td>\n",
       "      <td>20.15571</td>\n",
       "      <td>3.393965</td>\n",
       "      <td>8.953821</td>\n",
       "      <td>20.143010</td>\n",
       "      <td>3.352965</td>\n",
       "      <td>8.865486</td>\n",
       "      <td>6.860595e+04</td>\n",
       "      <td>3.440343e+04</td>\n",
       "      <td>8.573913e+06</td>\n",
       "      <td>5.230058e+05</td>\n",
       "      <td>7.718598e+06</td>\n",
       "      <td>3.057638e+06</td>\n",
       "      <td>4.723131e+06</td>\n",
       "      <td>26.734285</td>\n",
       "    </tr>\n",
       "    <tr>\n",
       "      <th>min</th>\n",
       "      <td>1900.000000</td>\n",
       "      <td>1.000000</td>\n",
       "      <td>1.000000e+00</td>\n",
       "      <td>-5.700000e+01</td>\n",
       "      <td>1900.00000</td>\n",
       "      <td>1.000000</td>\n",
       "      <td>1.000000</td>\n",
       "      <td>1900.000000</td>\n",
       "      <td>1.000000</td>\n",
       "      <td>1.000000</td>\n",
       "      <td>1.000000e+00</td>\n",
       "      <td>1.000000e+00</td>\n",
       "      <td>1.000000e+00</td>\n",
       "      <td>3.000000e+00</td>\n",
       "      <td>1.000000e+00</td>\n",
       "      <td>3.400000e+01</td>\n",
       "      <td>2.000000e+00</td>\n",
       "      <td>3.221647</td>\n",
       "    </tr>\n",
       "    <tr>\n",
       "      <th>25%</th>\n",
       "      <td>1989.000000</td>\n",
       "      <td>93.000000</td>\n",
       "      <td>1.750000e+02</td>\n",
       "      <td>7.000000e+00</td>\n",
       "      <td>1989.00000</td>\n",
       "      <td>4.000000</td>\n",
       "      <td>7.000000</td>\n",
       "      <td>1989.000000</td>\n",
       "      <td>4.000000</td>\n",
       "      <td>8.000000</td>\n",
       "      <td>6.000000e+00</td>\n",
       "      <td>1.400000e+01</td>\n",
       "      <td>1.244750e+03</td>\n",
       "      <td>5.725000e+02</td>\n",
       "      <td>6.500000e+02</td>\n",
       "      <td>5.000000e+04</td>\n",
       "      <td>8.300000e+03</td>\n",
       "      <td>45.692897</td>\n",
       "    </tr>\n",
       "    <tr>\n",
       "      <th>50%</th>\n",
       "      <td>2001.000000</td>\n",
       "      <td>270.000000</td>\n",
       "      <td>7.210000e+02</td>\n",
       "      <td>1.515000e+02</td>\n",
       "      <td>2001.00000</td>\n",
       "      <td>7.000000</td>\n",
       "      <td>15.000000</td>\n",
       "      <td>2001.000000</td>\n",
       "      <td>7.000000</td>\n",
       "      <td>16.000000</td>\n",
       "      <td>2.000000e+01</td>\n",
       "      <td>5.000000e+01</td>\n",
       "      <td>1.000000e+04</td>\n",
       "      <td>3.000000e+03</td>\n",
       "      <td>5.965000e+03</td>\n",
       "      <td>1.725000e+05</td>\n",
       "      <td>6.000000e+04</td>\n",
       "      <td>68.415379</td>\n",
       "    </tr>\n",
       "    <tr>\n",
       "      <th>75%</th>\n",
       "      <td>2011.000000</td>\n",
       "      <td>486.000000</td>\n",
       "      <td>3.511000e+03</td>\n",
       "      <td>1.129650e+04</td>\n",
       "      <td>2011.00000</td>\n",
       "      <td>9.000000</td>\n",
       "      <td>23.000000</td>\n",
       "      <td>2011.000000</td>\n",
       "      <td>9.000000</td>\n",
       "      <td>23.000000</td>\n",
       "      <td>6.300000e+01</td>\n",
       "      <td>2.000000e+02</td>\n",
       "      <td>9.182300e+04</td>\n",
       "      <td>1.750000e+04</td>\n",
       "      <td>5.825500e+04</td>\n",
       "      <td>5.000000e+05</td>\n",
       "      <td>3.173000e+05</td>\n",
       "      <td>84.252733</td>\n",
       "    </tr>\n",
       "    <tr>\n",
       "      <th>max</th>\n",
       "      <td>2021.000000</td>\n",
       "      <td>9881.000000</td>\n",
       "      <td>7.800000e+07</td>\n",
       "      <td>1.302587e+07</td>\n",
       "      <td>2021.00000</td>\n",
       "      <td>12.000000</td>\n",
       "      <td>31.000000</td>\n",
       "      <td>2021.000000</td>\n",
       "      <td>12.000000</td>\n",
       "      <td>31.000000</td>\n",
       "      <td>3.700000e+06</td>\n",
       "      <td>1.800000e+06</td>\n",
       "      <td>3.300000e+08</td>\n",
       "      <td>1.585000e+07</td>\n",
       "      <td>3.300000e+08</td>\n",
       "      <td>6.000000e+07</td>\n",
       "      <td>2.100000e+08</td>\n",
       "      <td>100.000000</td>\n",
       "    </tr>\n",
       "  </tbody>\n",
       "</table>\n",
       "</div>"
      ],
      "text/plain": [
       "               Year           Seq  Aid Contribution  Dis Mag Value  \\\n",
       "count  16126.000000  16126.000000      6.770000e+02   4.946000e+03   \n",
       "mean    1996.764790    714.784820      1.254136e+05   4.735038e+04   \n",
       "std       20.159065   1929.635089      2.997875e+06   3.094242e+05   \n",
       "min     1900.000000      1.000000      1.000000e+00  -5.700000e+01   \n",
       "25%     1989.000000     93.000000      1.750000e+02   7.000000e+00   \n",
       "50%     2001.000000    270.000000      7.210000e+02   1.515000e+02   \n",
       "75%     2011.000000    486.000000      3.511000e+03   1.129650e+04   \n",
       "max     2021.000000   9881.000000      7.800000e+07   1.302587e+07   \n",
       "\n",
       "        Start Year   Start Month     Start Day      End Year     End Month  \\\n",
       "count  16126.00000  15739.000000  12498.000000  16126.000000  15418.000000   \n",
       "mean    1996.77837      6.444374     15.233957   1996.835607      6.576728   \n",
       "std       20.15571      3.393965      8.953821     20.143010      3.352965   \n",
       "min     1900.00000      1.000000      1.000000   1900.000000      1.000000   \n",
       "25%     1989.00000      4.000000      7.000000   1989.000000      4.000000   \n",
       "50%     2001.00000      7.000000     15.000000   2001.000000      7.000000   \n",
       "75%     2011.00000      9.000000     23.000000   2011.000000      9.000000   \n",
       "max     2021.00000     12.000000     31.000000   2021.000000     12.000000   \n",
       "\n",
       "            End Day  Total Deaths    No Injured   No Affected   No Homeless  \\\n",
       "count  12570.000000  1.141300e+04  3.895000e+03  9.220000e+03  2.430000e+03   \n",
       "mean      15.775020  2.842866e+03  2.621102e+03  8.823612e+05  7.329314e+04   \n",
       "std        8.865486  6.860595e+04  3.440343e+04  8.573913e+06  5.230058e+05   \n",
       "min        1.000000  1.000000e+00  1.000000e+00  1.000000e+00  3.000000e+00   \n",
       "25%        8.000000  6.000000e+00  1.400000e+01  1.244750e+03  5.725000e+02   \n",
       "50%       16.000000  2.000000e+01  5.000000e+01  1.000000e+04  3.000000e+03   \n",
       "75%       23.000000  6.300000e+01  2.000000e+02  9.182300e+04  1.750000e+04   \n",
       "max       31.000000  3.700000e+06  1.800000e+06  3.300000e+08  1.585000e+07   \n",
       "\n",
       "       Total Affected  Insured Damages ('000 US$)  Total Damages ('000 US$)  \\\n",
       "count    1.161700e+04                1.096000e+03              5.245000e+03   \n",
       "mean     7.165088e+05                7.986514e+05              7.247835e+05   \n",
       "std      7.718598e+06                3.057638e+06              4.723131e+06   \n",
       "min      1.000000e+00                3.400000e+01              2.000000e+00   \n",
       "25%      6.500000e+02                5.000000e+04              8.300000e+03   \n",
       "50%      5.965000e+03                1.725000e+05              6.000000e+04   \n",
       "75%      5.825500e+04                5.000000e+05              3.173000e+05   \n",
       "max      3.300000e+08                6.000000e+07              2.100000e+08   \n",
       "\n",
       "                CPI  \n",
       "count  15811.000000  \n",
       "mean      63.215103  \n",
       "std       26.734285  \n",
       "min        3.221647  \n",
       "25%       45.692897  \n",
       "50%       68.415379  \n",
       "75%       84.252733  \n",
       "max      100.000000  "
      ]
     },
     "execution_count": 3,
     "metadata": {},
     "output_type": "execute_result"
    }
   ],
   "source": [
    "df.describe()"
   ]
  },
  {
   "cell_type": "code",
   "execution_count": 25,
   "metadata": {},
   "outputs": [
    {
     "data": {
      "text/plain": [
       "Total Damages ('000 US$)\n",
       "100000.0    177\n",
       "10000.0     141\n",
       "1000.0      135\n",
       "2000.0      134\n",
       "5000.0      109\n",
       "           ... \n",
       "206000.0      1\n",
       "394.0         1\n",
       "142.0         1\n",
       "17800.0       1\n",
       "215000.0      1\n",
       "Name: count, Length: 1565, dtype: int64"
      ]
     },
     "execution_count": 25,
     "metadata": {},
     "output_type": "execute_result"
    }
   ],
   "source": [
    "df[\"Total Damages ('000 US$)\"].value_counts()"
   ]
  },
  {
   "cell_type": "code",
   "execution_count": null,
   "metadata": {},
   "outputs": [],
   "source": []
  },
  {
   "cell_type": "code",
   "execution_count": 4,
   "metadata": {},
   "outputs": [
    {
     "data": {
      "text/plain": [
       "Dis No                                 0\n",
       "Year                                   0\n",
       "Seq                                    0\n",
       "Glide                              13063\n",
       "Disaster Group                         0\n",
       "Disaster Subgroup                      0\n",
       "Disaster Type                          0\n",
       "Disaster Subtype                    2747\n",
       "Disaster Subsubtype                13600\n",
       "Event Name                         10999\n",
       "Country                                0\n",
       "ISO                                    0\n",
       "Region                                 0\n",
       "Continent                              0\n",
       "Location                            1346\n",
       "Origin                             10864\n",
       "Associated Dis                     11412\n",
       "Associated Dis2                    13946\n",
       "OFDA Response                      13194\n",
       "Appeal                             12204\n",
       "Declaration                        11517\n",
       "Aid Contribution                   13967\n",
       "Dis Mag Value                      10075\n",
       "Dis Mag Scale                       1073\n",
       "Latitude                           12313\n",
       "Longitude                          12309\n",
       "Local Time                         13879\n",
       "River Basin                        13359\n",
       "Start Year                             0\n",
       "Start Month                          268\n",
       "Start Day                           3067\n",
       "End Year                               0\n",
       "End Month                            549\n",
       "End Day                             2994\n",
       "Total Deaths                        4445\n",
       "No Injured                         10993\n",
       "No Affected                         5798\n",
       "No Homeless                        12395\n",
       "Total Affected                      3603\n",
       "Reconstruction Costs ('000 US$)    14613\n",
       "Insured Damages ('000 US$)         13550\n",
       "Total Damages ('000 US$)            9781\n",
       "CPI                                  315\n",
       "Adm Level                           6789\n",
       "Admin1 Code                        10063\n",
       "Admin2 Code                        10679\n",
       "Geo Locations                       6789\n",
       "dtype: int64"
      ]
     },
     "execution_count": 4,
     "metadata": {},
     "output_type": "execute_result"
    }
   ],
   "source": [
    "df2.isnull().sum()"
   ]
  },
  {
   "cell_type": "code",
   "execution_count": 22,
   "metadata": {},
   "outputs": [
    {
     "data": {
      "text/plain": [
       "Disaster Subgroup\n",
       "Hydrological         6327\n",
       "Meteorological       5100\n",
       "Geophysical          1857\n",
       "Biological           1598\n",
       "Climatological       1243\n",
       "Extra-terrestrial       1\n",
       "Name: count, dtype: int64"
      ]
     },
     "execution_count": 22,
     "metadata": {},
     "output_type": "execute_result"
    }
   ],
   "source": [
    "df['Disaster Subgroup'].value_counts()"
   ]
  },
  {
   "cell_type": "code",
   "execution_count": 20,
   "metadata": {},
   "outputs": [
    {
     "data": {
      "text/plain": [
       "Dis No                                 0\n",
       "Year                                   0\n",
       "Seq                                    0\n",
       "Glide                              13063\n",
       "Disaster Group                         0\n",
       "Disaster Subgroup                      0\n",
       "Disaster Type                          0\n",
       "Disaster Subtype                    2747\n",
       "Disaster Subsubtype                13600\n",
       "Event Name                         10999\n",
       "Country                                0\n",
       "ISO                                    0\n",
       "Region                                 0\n",
       "Continent                              0\n",
       "Location                            1346\n",
       "Origin                             10864\n",
       "Associated Dis                     11412\n",
       "Associated Dis2                    13946\n",
       "OFDA Response                      13194\n",
       "Appeal                             12204\n",
       "Declaration                        11517\n",
       "Aid Contribution                   13967\n",
       "Dis Mag Value                      10075\n",
       "Dis Mag Scale                       1073\n",
       "Latitude                           12313\n",
       "Longitude                          12309\n",
       "Local Time                         13879\n",
       "River Basin                        13359\n",
       "Start Year                             0\n",
       "Start Month                          268\n",
       "Start Day                           3067\n",
       "End Year                               0\n",
       "End Month                            549\n",
       "End Day                             2994\n",
       "Total Deaths                        4445\n",
       "No Injured                         10993\n",
       "No Affected                         5798\n",
       "No Homeless                        12395\n",
       "Total Affected                      3603\n",
       "Reconstruction Costs ('000 US$)    14613\n",
       "Insured Damages ('000 US$)         13550\n",
       "Total Damages ('000 US$)            9781\n",
       "CPI                                  315\n",
       "Adm Level                           6789\n",
       "Admin1 Code                        10063\n",
       "Admin2 Code                        10679\n",
       "Geo Locations                       6789\n",
       "dtype: int64"
      ]
     },
     "execution_count": 20,
     "metadata": {},
     "output_type": "execute_result"
    }
   ],
   "source": [
    "df2.isnull().sum()"
   ]
  },
  {
   "cell_type": "code",
   "execution_count": 17,
   "metadata": {},
   "outputs": [
    {
     "data": {
      "text/plain": [
       "Geo Locations\n",
       "Administrative unit not available (Adm1).                                                                                                                                                                                           93\n",
       "Administrative unit not available (Adm2).                                                                                                                                                                                           62\n",
       "Taiwan Sheng (Adm1).                                                                                                                                                                                                                56\n",
       "Dolnoslaskie, Kujawsko-Pomorskie, Lodzkie, Lubeiskie, Lubuskie, Malopolske, Mazowieckie, Opolskie, Podkarpackie, Podlaskie, Pomorskie, Slaskie, Swietokrzyskie, Warminsko-Mazurskie, Wielkopolskie, Zachodnio-Pomorskie (Adm1).     17\n",
       "Region de Bruxelles-Capitale / Brussels Hoofdstedelijk Gewes, Region wallonne, Vlaams Gewest (Adm1).                                                                                                                                16\n",
       "                                                                                                                                                                                                                                    ..\n",
       "Bebedjia, Doba, Erde-pala, Gore, Koumra, Ndjamena, Sarh (Adm2).                                                                                                                                                                      1\n",
       "Hassakeh (Adm1).                                                                                                                                                                                                                     1\n",
       "Manzini (Adm1). Lugongolweni, Mbabane, Mbangweni, Pigg's Peak (Adm2).                                                                                                                                                                1\n",
       "Kosice, Presov (Adm1).                                                                                                                                                                                                               1\n",
       "Jablanicki, Kosovski, Kosovsko-mitrovatski, Kosovsko-pomoravski, Nisavski, Pirotski, Toplicki (Adm1).                                                                                                                                1\n",
       "Name: count, Length: 6355, dtype: int64"
      ]
     },
     "execution_count": 17,
     "metadata": {},
     "output_type": "execute_result"
    }
   ],
   "source": [
    "df['Geo Locations'].value_counts()"
   ]
  },
  {
   "cell_type": "code",
   "execution_count": 14,
   "metadata": {},
   "outputs": [
    {
     "name": "stdout",
     "output_type": "stream",
     "text": [
      "Index(['Dis No', 'Year', 'Seq', 'Glide', 'Disaster Group', 'Disaster Subgroup',\n",
      "       'Disaster Type', 'Disaster Subtype', 'Disaster Subsubtype',\n",
      "       'Event Name', 'Country', 'ISO', 'Region', 'Continent', 'Location',\n",
      "       'Origin', 'Associated Dis', 'Associated Dis2', 'OFDA Response',\n",
      "       'Appeal', 'Declaration', 'Aid Contribution', 'Dis Mag Value',\n",
      "       'Dis Mag Scale', 'Latitude', 'Longitude', 'Local Time', 'River Basin',\n",
      "       'Start Year', 'Start Month', 'Start Day', 'End Year', 'End Month',\n",
      "       'End Day', 'Total Deaths', 'No Injured', 'No Affected', 'No Homeless',\n",
      "       'Total Affected', 'Reconstruction Costs ('000 US$)',\n",
      "       'Insured Damages ('000 US$)', 'Total Damages ('000 US$)', 'CPI',\n",
      "       'Adm Level', 'Admin1 Code', 'Admin2 Code', 'Geo Locations'],\n",
      "      dtype='object')\n",
      "Index(['Year', 'Seq', 'Glide', 'Disaster Group', 'Disaster Subgroup',\n",
      "       'Disaster Type', 'Disaster Subtype', 'Disaster Subsubtype',\n",
      "       'Event Name', 'Country', 'ISO', 'Region', 'Continent', 'Location',\n",
      "       'Origin', 'Associated Dis', 'Associated Dis2', 'OFDA Response',\n",
      "       'Appeal', 'Declaration', 'Aid Contribution', 'Dis Mag Value',\n",
      "       'Dis Mag Scale', 'Latitude', 'Longitude', 'Local Time', 'River Basin',\n",
      "       'Start Year', 'Start Month', 'Start Day', 'End Year', 'End Month',\n",
      "       'End Day', 'Total Deaths', 'No Injured', 'No Affected', 'No Homeless',\n",
      "       'Total Affected', 'Insured Damages ('000 US$)',\n",
      "       'Total Damages ('000 US$)', 'CPI', 'Adm Level', 'Admin1 Code',\n",
      "       'Admin2 Code', 'Geo Locations'],\n",
      "      dtype='object')\n"
     ]
    }
   ],
   "source": [
    "print(df2.columns)\n",
    "print(df.columns)"
   ]
  },
  {
   "cell_type": "code",
   "execution_count": 6,
   "metadata": {},
   "outputs": [
    {
     "name": "stdout",
     "output_type": "stream",
     "text": [
      "Index(['Year', 'Seq', 'Glide', 'Disaster Group', 'Disaster Subgroup',\n",
      "       'Disaster Type', 'Disaster Subtype', 'Disaster Subsubtype',\n",
      "       'Event Name', 'Country', 'ISO', 'Region', 'Continent', 'Location',\n",
      "       'Origin', 'Associated Dis', 'Associated Dis2', 'OFDA Response',\n",
      "       'Appeal', 'Declaration', 'Aid Contribution', 'Dis Mag Value',\n",
      "       'Dis Mag Scale', 'Latitude', 'Longitude', 'Local Time', 'River Basin',\n",
      "       'Start Year', 'Start Month', 'Start Day', 'End Year', 'End Month',\n",
      "       'End Day', 'Total Deaths', 'No Injured', 'No Affected', 'No Homeless',\n",
      "       'Total Affected', 'Insured Damages ('000 US$)',\n",
      "       'Total Damages ('000 US$)', 'CPI', 'Adm Level', 'Admin1 Code',\n",
      "       'Admin2 Code', 'Geo Locations'],\n",
      "      dtype='object')\n",
      "Index(['Dis No', 'Year', 'Seq', 'Glide', 'Disaster Group', 'Disaster Subgroup',\n",
      "       'Disaster Type', 'Disaster Subtype', 'Disaster Subsubtype',\n",
      "       'Event Name', 'Country', 'ISO', 'Region', 'Continent', 'Location',\n",
      "       'Origin', 'Associated Dis', 'Associated Dis2', 'OFDA Response',\n",
      "       'Appeal', 'Declaration', 'Aid Contribution', 'Dis Mag Value',\n",
      "       'Dis Mag Scale', 'Latitude', 'Longitude', 'Local Time', 'River Basin',\n",
      "       'Start Year', 'Start Month', 'Start Day', 'End Year', 'End Month',\n",
      "       'End Day', 'Total Deaths', 'No Injured', 'No Affected', 'No Homeless',\n",
      "       'Total Affected', 'Reconstruction Costs ('000 US$)',\n",
      "       'Insured Damages ('000 US$)', 'Total Damages ('000 US$)', 'CPI',\n",
      "       'Adm Level', 'Admin1 Code', 'Admin2 Code', 'Geo Locations'],\n",
      "      dtype='object')\n"
     ]
    }
   ],
   "source": [
    "print(df.columns)\n",
    "print(df2.columns)"
   ]
  },
  {
   "cell_type": "code",
   "execution_count": null,
   "metadata": {},
   "outputs": [],
   "source": []
  },
  {
   "cell_type": "code",
   "execution_count": 9,
   "metadata": {},
   "outputs": [
    {
     "name": "stdout",
     "output_type": "stream",
     "text": [
      "45\n",
      "47\n"
     ]
    }
   ],
   "source": [
    "print(len(df.columns))\n",
    "print(len(df2.columns))"
   ]
  },
  {
   "cell_type": "code",
   "execution_count": 10,
   "metadata": {},
   "outputs": [
    {
     "data": {
      "text/plain": [
       "array(['Natural'], dtype=object)"
      ]
     },
     "execution_count": 10,
     "metadata": {},
     "output_type": "execute_result"
    }
   ],
   "source": [
    "df['Disaster Group'].unique()"
   ]
  },
  {
   "cell_type": "code",
   "execution_count": null,
   "metadata": {},
   "outputs": [],
   "source": []
  },
  {
   "cell_type": "code",
   "execution_count": 14,
   "metadata": {},
   "outputs": [
    {
     "data": {
      "text/plain": [
       "Insured Damages ('000 US$)\n",
       "200000.0     60\n",
       "30000.0      32\n",
       "62500.0      30\n",
       "800000.0     29\n",
       "100000.0     29\n",
       "             ..\n",
       "241000.0      1\n",
       "4700000.0     1\n",
       "102200.0      1\n",
       "400.0         1\n",
       "7500000.0     1\n",
       "Name: count, Length: 362, dtype: int64"
      ]
     },
     "execution_count": 14,
     "metadata": {},
     "output_type": "execute_result"
    }
   ],
   "source": [
    "df['Insured Damages (\\'000 US$)'].value_counts()"
   ]
  },
  {
   "cell_type": "code",
   "execution_count": 16,
   "metadata": {},
   "outputs": [
    {
     "name": "stdout",
     "output_type": "stream",
     "text": [
      "16126\n",
      "14644\n"
     ]
    }
   ],
   "source": [
    "print(len(df))\n",
    "print(len(df2))"
   ]
  }
 ],
 "metadata": {
  "kernelspec": {
   "display_name": "AIcodefest",
   "language": "python",
   "name": "python3"
  },
  "language_info": {
   "codemirror_mode": {
    "name": "ipython",
    "version": 3
   },
   "file_extension": ".py",
   "mimetype": "text/x-python",
   "name": "python",
   "nbconvert_exporter": "python",
   "pygments_lexer": "ipython3",
   "version": "3.10.6"
  },
  "orig_nbformat": 4
 },
 "nbformat": 4,
 "nbformat_minor": 2
}
